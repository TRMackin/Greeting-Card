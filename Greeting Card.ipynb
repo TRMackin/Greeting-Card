{
 "cells": [
  {
   "cell_type": "code",
   "execution_count": null,
   "id": "ac3a6ee9",
   "metadata": {
    "scrolled": true
   },
   "outputs": [
    {
     "name": "stdout",
     "output_type": "stream",
     "text": [
      "Press 'p' to pause, 'r' to resume, and 'e' to exit the program\n",
      " p\n",
      "Press 'p' to pause, 'r' to resume, and 'e' to exit the program\n",
      " r\n",
      "Press 'p' to pause, 'r' to resume, and 'e' to exit the program\n",
      " e\n"
     ]
    }
   ],
   "source": [
    "import pygame\n",
    "from pygame import mixer\n",
    "pygame.init()\n",
    "mixer.init()\n",
    "\n",
    "width=1000\n",
    "height=700\n",
    "\n",
    "surface=pygame.display.set_mode((width, height))\n",
    "\n",
    "pygame.display.set_caption(\"Holiday Greeting Card\")\n",
    "\n",
    "img=pygame.image.load(\"Christmas and New Year.jpg\").convert()\n",
    "\n",
    "resized_image=pygame.transform.scale(img, (1000, 700))\n",
    "x=0\n",
    "y=0\n",
    "\n",
    "surface.blit(resized_image, (x, y))\n",
    "\n",
    "pygame.display.flip()\n",
    "\n",
    "\n",
    "mixer.music.load(\"Hark! The Heralds Angels Sing.mp3\")\n",
    "\n",
    "mixer.music.set_volume(0.25)\n",
    "\n",
    "#start playing this song\n",
    "mixer.music.play()\n",
    "\n",
    "while True:\n",
    "    print(\"Press 'p' to pause, 'r' to resume, and 'e' to exit the program\")\n",
    "    music_control=input(\" \")\n",
    "    if music_control=='p':\n",
    "        mixer.music.pause()\n",
    "    elif music_control=='r':\n",
    "        mixer.music.unpause()\n",
    "    elif music_control=='e':\n",
    "        mixer.music.stop()\n",
    "        break\n",
    "\n",
    "active=True\n",
    "while active:\n",
    "    for event in pygame.event.get():\n",
    "        if event.type==pygame.QUIT:\n",
    "            active= False\n",
    "            \n",
    "pygame.quit()"
   ]
  }
 ],
 "metadata": {
  "kernelspec": {
   "display_name": "Python 3 (ipykernel)",
   "language": "python",
   "name": "python3"
  },
  "language_info": {
   "codemirror_mode": {
    "name": "ipython",
    "version": 3
   },
   "file_extension": ".py",
   "mimetype": "text/x-python",
   "name": "python",
   "nbconvert_exporter": "python",
   "pygments_lexer": "ipython3",
   "version": "3.9.12"
  }
 },
 "nbformat": 4,
 "nbformat_minor": 5
}
